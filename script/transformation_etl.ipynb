{
 "cells": [
  {
   "cell_type": "code",
   "execution_count": 21,
   "metadata": {},
   "outputs": [
    {
     "name": "stdout",
     "output_type": "stream",
     "text": [
      "\u001b[31mERROR: Could not find a version that satisfies the requirement pywin32 (from versions: none)\u001b[0m\u001b[31m\n",
      "\u001b[0m\u001b[31mERROR: No matching distribution found for pywin32\u001b[0m\u001b[31m\n",
      "\u001b[0m"
     ]
    }
   ],
   "source": [
    "#!pip install openpyxl\n",
    "#!pip install requests\n",
    "#!pip install pandas\n",
    "#!pip install xlrd\n",
    "#!pip install odfpy\n",
    "!pip install pywin32\n"
   ]
  },
  {
   "cell_type": "markdown",
   "metadata": {},
   "source": [
    "#Download file"
   ]
  },
  {
   "cell_type": "code",
   "execution_count": 124,
   "metadata": {},
   "outputs": [],
   "source": [
    "import requests\n",
    "import os\n",
    "import subprocess\n",
    "\n",
    "def download_file(url, filename):\n",
    "    \"\"\" \n",
    "    Baixar arquivo,salvar na pasta e rodar com libreoffice para iniciar trabalhos com o cache\n",
    "    \"\"\"\n",
    "    try:\n",
    "        url = 'https://github.com/LuisGustavo2010/Datapipeline_Test_Raizen/raw/main/raw_data/vendas-combustiveis-m3.xls'\n",
    "        filename = 'vendas-combustiveis-m3.xls'\n",
    "\n",
    "        response = requests.get(url, stream=True)\n",
    "\n",
    "        with open(os.path.join(\"/home/luisdev/Documentos/Projetos/Datapipeline_raizen/data/raw_data\", filename), \"wb\") as f:\n",
    "            for chunk in response.iter_content(chunk_size=1024):\n",
    "                f.write(chunk)\n",
    "    except Exception as e:\n",
    "        print(f'Ocorreu um erro: {e}')\n",
    "        \n",
    "    try:\n",
    "        subprocess.run(['libreoffice', '--headless', '--convert-to', 'ods', '--outdir', '/home/luisdev/Documentos/Projetos/Datapipeline_raizen/data/raw_data', 'vendas-combustiveis-m3.xls'])\n",
    "    except:\n",
    "        pass\n"
   ]
  },
  {
   "cell_type": "markdown",
   "metadata": {},
   "source": [
    "#Transformações no arquivo"
   ]
  },
  {
   "cell_type": "code",
   "execution_count": 97,
   "metadata": {},
   "outputs": [],
   "source": [
    "import pandas as pd\n",
    "def CompilandoCache(file):\n",
    "     \"\"\"\n",
    "     Separando as abas, listando dfs e concatenando\n",
    "     \"\"\"\n",
    "     file = '/home/luisdev/Documentos/Projetos/Datapipeline_raizen/data/raw_data/vendas-combustiveis-m3.xls'\n",
    "     aba1_df = pd.read_excel(file, sheet_name=1)\n",
    "     aba2_df = pd.read_excel(file, sheet_name=2)\n",
    "     aba3_df = pd.read_excel(file, sheet_name=3)\n",
    "     dfs = [aba1_df, aba2_df, aba3_df] \n",
    "     combined_df = pd.concat(dfs)\n",
    "     df = combined_df\n"
   ]
  },
  {
   "cell_type": "code",
   "execution_count": 98,
   "metadata": {},
   "outputs": [],
   "source": [
    "import datetime\n",
    "from datetime import datetime\n",
    "\n",
    "def Pandas_transform(file):\n",
    "    df.columns = ['Combustível', 'Ano', 'Região', 'UF', '1', '2', '3', '4', '5', '6', '7', '8', '9', '10', '11', '12', 'Total']\n",
    "    df = df.melt(id_vars=['Combustível', 'Ano', 'Região', 'UF'])\n",
    "    df = df.loc[df['variable'] != 'Total']\n",
    "    df['year_month'] = df['Ano'].astype(str) + '-' + df['variable']\n",
    "    df['year_month'] = pd.to_datetime(df['year_month'])\n",
    "    df = df.drop(labels=['variable', 'Região', 'Ano'], axis=1)\n",
    "    df.columns = ['product', 'uf', 'volume', 'year_month']\n",
    "    df['volume'] = pd.to_numeric(df['volume'])\n",
    "    df['product'] = df['product'].str.replace(' \\(m3\\)', '', regex=True)\n",
    "    df = df.fillna(0)\n",
    "    df['unit'] = 'm3'\n",
    "    df['created_at'] = datetime.now()\n",
    "    df = df[['year_month', 'uf', 'product', 'unit', 'volume', 'created_at']]\n",
    "    df.to_csv('/home/luisdev/Documentos/Projetos/Datapipeline_raizen/data/silver/cleanData.csv', index=False, sep=';')"
   ]
  },
  {
   "cell_type": "code",
   "execution_count": 111,
   "metadata": {},
   "outputs": [],
   "source": [
    "#Vendas de combustíveis derivados de petróleo por UF e produto\n",
    "def VendasDerivadosPetroleo(path):\n",
    "    df = pd.read_csv('/home/luisdev/Documentos/Projetos/Datapipeline_raizen/data/silver/cleanData.csv', sep=';')\n",
    "    df = df[~df['product'].str.startswith('ÓLEO DIESEL (OUTROS )')] \n",
    "    df = df[~df['product'].str.startswith('ÓLEO DIESEL MARÍTIMO')] \n",
    "    df = df[~df['product'].str.startswith('ÓLEO DIESEL S-10')] \n",
    "    df = df[~df['product'].str.startswith('ÓLEO DIESEL S-1800')]  \n",
    "    df = df[~df['product'].str.startswith('ÓLEO DIESEL S-500')] \n",
    "    df = df[~df['product'].str.startswith('GLP - Até P13')] \n",
    "    df = df[~df['product'].str.startswith('GLP - Outros')] \n",
    "    df.to_csv('/home/luisdev/Documentos/Projetos/Datapipeline_raizen/data/gold/VendasDerivadosPetroleo.csv', index=False, sep=';')"
   ]
  },
  {
   "cell_type": "code",
   "execution_count": 112,
   "metadata": {},
   "outputs": [],
   "source": [
    "#Vendas de diesel por UF e tipo\n",
    "def VendasDerivadosPetroleo(path):\n",
    "    df = pd.read_csv('/home/luisdev/Documentos/Projetos/Datapipeline_raizen/data/silver/cleanData.csv', sep=';')\n",
    "    df = df[df['product'] != 'ÓLEO DIESEL']\n",
    "    df = df[df['product'].str.startswith('ÓLEO DIESEL')]\n",
    "    df.to_csv('/home/luisdev/Documentos/Projetos/Datapipeline_raizen/data/gold/VendasDiesel.csv', index=False, sep=';')"
   ]
  },
  {
   "cell_type": "code",
   "execution_count": 123,
   "metadata": {},
   "outputs": [
    {
     "name": "stdout",
     "output_type": "stream",
     "text": [
      "/bin/bash: linha 1: 1.27: Arquivo ou diretório inexistente\n"
     ]
    }
   ],
   "source": [
    "!pip install --upgrade urllib3<1.27\n"
   ]
  }
 ],
 "metadata": {
  "kernelspec": {
   "display_name": "venv",
   "language": "python",
   "name": "python3"
  },
  "language_info": {
   "codemirror_mode": {
    "name": "ipython",
    "version": 3
   },
   "file_extension": ".py",
   "mimetype": "text/x-python",
   "name": "python",
   "nbconvert_exporter": "python",
   "pygments_lexer": "ipython3",
   "version": "3.9.17"
  },
  "orig_nbformat": 4
 },
 "nbformat": 4,
 "nbformat_minor": 2
}
